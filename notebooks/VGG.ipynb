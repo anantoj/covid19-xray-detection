{
  "nbformat": 4,
  "nbformat_minor": 0,
  "metadata": {
    "accelerator": "GPU",
    "colab": {
      "name": "vgg_2.ipynb",
      "provenance": [],
      "collapsed_sections": [],
      "include_colab_link": true
    },
    "kernelspec": {
      "display_name": "Python 3",
      "name": "python3"
    },
    "language_info": {
      "name": "python"
    }
  },
  "cells": [
    {
      "cell_type": "markdown",
      "metadata": {
        "id": "view-in-github",
        "colab_type": "text"
      },
      "source": [
        "<a href=\"https://colab.research.google.com/github/anantoj/covid19-xray-detection/blob/main/notebooks/VGG.ipynb\" target=\"_parent\"><img src=\"https://colab.research.google.com/assets/colab-badge.svg\" alt=\"Open In Colab\"/></a>"
      ]
    },
    {
      "cell_type": "code",
      "metadata": {
        "colab": {
          "base_uri": "https://localhost:8080/"
        },
        "id": "98gJ8AiyWaO5",
        "outputId": "3523ddae-480e-4ae5-b424-ac9a58e4b212"
      },
      "source": [
        "from google.colab import drive\n",
        "drive.mount('/content/drive')"
      ],
      "execution_count": null,
      "outputs": [
        {
          "output_type": "stream",
          "text": [
            "Mounted at /content/drive\n"
          ],
          "name": "stdout"
        }
      ]
    },
    {
      "cell_type": "markdown",
      "metadata": {
        "id": "FJhl_AY6h5vN"
      },
      "source": [
        "# VGG16"
      ]
    },
    {
      "cell_type": "code",
      "metadata": {
        "colab": {
          "base_uri": "https://localhost:8080/"
        },
        "id": "_bV9wkXyh19h",
        "outputId": "fa977af2-0c40-434b-8377-83c7f56cb9c6"
      },
      "source": [
        "!pip install -Uq tensorflow==2.4"
      ],
      "execution_count": null,
      "outputs": [
        {
          "output_type": "stream",
          "text": [
            "\u001b[K     |████████████████████████████████| 394.7MB 41kB/s \n",
            "\u001b[K     |████████████████████████████████| 3.8MB 43.7MB/s \n",
            "\u001b[K     |████████████████████████████████| 2.9MB 42.0MB/s \n",
            "\u001b[K     |████████████████████████████████| 471kB 40.8MB/s \n",
            "\u001b[?25h"
          ],
          "name": "stdout"
        }
      ]
    },
    {
      "cell_type": "code",
      "metadata": {
        "id": "bGMbJMBEh-68"
      },
      "source": [
        "!unzip -q /content/drive/MyDrive/dataset2.zip "
      ],
      "execution_count": null,
      "outputs": []
    },
    {
      "cell_type": "code",
      "metadata": {
        "id": "PKBg3m5YiBqe"
      },
      "source": [
        "import os\n",
        "import random\n",
        "import shutil\n",
        "import glob\n",
        "import tensorflow as tf\n",
        "from tensorflow import keras\n",
        "from tensorflow.keras.optimizers import Adam\n",
        "from tensorflow.keras.preprocessing.image import ImageDataGenerator\n",
        "from tensorflow.keras.layers import Dense, GlobalAveragePooling2D\n",
        "from tensorflow.keras.models import Model\n",
        "from tensorflow.keras.models import Sequential\n",
        "from tensorflow.keras.applications import VGG16 \n",
        "from tensorflow.keras.callbacks import ModelCheckpoint, EarlyStopping,TensorBoard,LearningRateScheduler\n",
        "from datetime import datetime\n",
        "import matplotlib.pyplot as plt"
      ],
      "execution_count": null,
      "outputs": []
    },
    {
      "cell_type": "code",
      "metadata": {
        "id": "5PTlQ7criL1c"
      },
      "source": [
        "BATCH_SIZE = 16 \n",
        "EPOCHS = 50\n",
        "LEARNING_RATE = 1e-4 \n",
        "NUM_CLASSES = 2\n",
        "SPLIT = 0.2\n",
        "SEED = 42"
      ],
      "execution_count": null,
      "outputs": []
    },
    {
      "cell_type": "code",
      "metadata": {
        "id": "m9hzuz6ci0o3"
      },
      "source": [
        "random.seed(SEED)\n",
        "os.chdir('/content/dataset2')\n",
        "if os.path.isdir('/content/train/covid') is False:\n",
        "    os.makedirs('/content/train/covid')\n",
        "    os.makedirs('/content/train/normal')\n",
        "    os.makedirs('/content/val/covid')\n",
        "    os.makedirs('/content/val/normal')\n",
        "    os.makedirs('/content/test/covid')\n",
        "    os.makedirs('/content/test/normal')\n",
        "\n",
        "    for c in random.sample(glob.glob('COVID*'), 2892):\n",
        "        shutil.move(c, '/content/train/covid')\n",
        "    for c in random.sample(glob.glob('COVID*'), 362):\n",
        "        shutil.move(c, '/content/val/covid')\n",
        "    for c in random.sample(glob.glob('COVID*'), 362):\n",
        "        shutil.move(c, '/content/test/covid')\n",
        "    for c in random.sample(glob.glob('Normal*'), 8154):\n",
        "        shutil.move(c, '/content/train/normal')\n",
        "    for c in random.sample(glob.glob('Normal*'), 1019):\n",
        "        shutil.move(c, '/content/val/normal')\n",
        "    for c in random.sample(glob.glob('Normal*'), 1019):\n",
        "        shutil.move(c, '/content/test/normal')\n",
        "\n",
        "os.chdir('../')\n"
      ],
      "execution_count": null,
      "outputs": []
    },
    {
      "cell_type": "code",
      "metadata": {
        "id": "W4vgOH_3i3I8"
      },
      "source": [
        "train_path = '/content/train'\n",
        "val_path = '/content/val'\n",
        "test_path = '/content/test'"
      ],
      "execution_count": null,
      "outputs": []
    },
    {
      "cell_type": "code",
      "metadata": {
        "colab": {
          "base_uri": "https://localhost:8080/"
        },
        "id": "dLXTtO14i4kd",
        "outputId": "c7c68269-db59-490e-df94-202dfcd317fe"
      },
      "source": [
        "datagen = ImageDataGenerator(\n",
        "    rescale = 1./255,\n",
        "    shear_range = 0.2,\n",
        "    zoom_range = 0.2,\n",
        "    rotation_range = 10,\n",
        "    horizontal_flip = True)\n",
        "\n",
        "train_generator = datagen.flow_from_directory(\n",
        "    train_path,\n",
        "    target_size = (224, 224),\n",
        "    batch_size = BATCH_SIZE,\n",
        "    shuffle=True)\n",
        "\n",
        "validation_generator = datagen.flow_from_directory(\n",
        "    val_path,\n",
        "    target_size = (224, 224),\n",
        "    batch_size = BATCH_SIZE,\n",
        "    shuffle=True)\n",
        "\n",
        "test_generator = datagen.flow_from_directory(\n",
        "    test_path,\n",
        "    target_size = (224, 224),\n",
        "    batch_size = BATCH_SIZE,\n",
        "    shuffle=False)"
      ],
      "execution_count": null,
      "outputs": [
        {
          "output_type": "stream",
          "text": [
            "Found 11046 images belonging to 2 classes.\n",
            "Found 1381 images belonging to 2 classes.\n",
            "Found 1381 images belonging to 2 classes.\n"
          ],
          "name": "stdout"
        }
      ]
    },
    {
      "cell_type": "code",
      "metadata": {
        "colab": {
          "base_uri": "https://localhost:8080/"
        },
        "id": "MGQ4S3xOi645",
        "outputId": "d720ceb7-30a2-4684-9908-c6f1cecc0f43"
      },
      "source": [
        "base_model = VGG16(weights='imagenet', include_top=False) "
      ],
      "execution_count": null,
      "outputs": [
        {
          "output_type": "stream",
          "text": [
            "Downloading data from https://storage.googleapis.com/tensorflow/keras-applications/vgg16/vgg16_weights_tf_dim_ordering_tf_kernels_notop.h5\n",
            "58892288/58889256 [==============================] - 2s 0us/step\n"
          ],
          "name": "stdout"
        }
      ]
    },
    {
      "cell_type": "code",
      "metadata": {
        "id": "Eq9_arOljK-m"
      },
      "source": [
        "model_1 = Sequential()\n",
        "model_1.add(base_model)\n",
        "model_1.add(GlobalAveragePooling2D())\n",
        "model_1.add(Dense(NUM_CLASSES, activation='sigmoid'))"
      ],
      "execution_count": null,
      "outputs": []
    },
    {
      "cell_type": "code",
      "metadata": {
        "id": "Zo8GhNN1jNTb"
      },
      "source": [
        "model_1.compile(\n",
        "    loss='binary_crossentropy',\n",
        "    optimizer=Adam(learning_rate=LEARNING_RATE),\n",
        "    metrics=['accuracy', tf.keras.metrics.Precision(), tf.keras.metrics.Recall()]\n",
        ")"
      ],
      "execution_count": null,
      "outputs": []
    },
    {
      "cell_type": "code",
      "metadata": {
        "colab": {
          "base_uri": "https://localhost:8080/"
        },
        "id": "mkspIsW5jPif",
        "outputId": "a1a3a085-a4e0-4ad8-f272-58dfab1763ae"
      },
      "source": [
        "model_1.summary()"
      ],
      "execution_count": null,
      "outputs": [
        {
          "output_type": "stream",
          "text": [
            "Model: \"sequential\"\n",
            "_________________________________________________________________\n",
            "Layer (type)                 Output Shape              Param #   \n",
            "=================================================================\n",
            "vgg16 (Functional)           (None, None, None, 512)   14714688  \n",
            "_________________________________________________________________\n",
            "global_average_pooling2d (Gl (None, 512)               0         \n",
            "_________________________________________________________________\n",
            "dense (Dense)                (None, 2)                 1026      \n",
            "=================================================================\n",
            "Total params: 14,715,714\n",
            "Trainable params: 14,715,714\n",
            "Non-trainable params: 0\n",
            "_________________________________________________________________\n"
          ],
          "name": "stdout"
        }
      ]
    },
    {
      "cell_type": "code",
      "metadata": {
        "id": "ZC-krImtjRPJ"
      },
      "source": [
        "def scheduler(epoch, lr):\n",
        "      if epoch < 5:\n",
        "        return lr\n",
        "      else:\n",
        "        return lr * tf.math.exp(-0.1)"
      ],
      "execution_count": null,
      "outputs": []
    },
    {
      "cell_type": "code",
      "metadata": {
        "id": "f3w8k17GjSmY"
      },
      "source": [
        "log_dir='./logs/fit'+datetime.now().strftime('%d.%m.%Y--%H-%M-%S')\n",
        "model_path='/content/model_1.h5'\n",
        "checkpoint = ModelCheckpoint(model_path, monitor='val_accuracy',\n",
        "                             verbose=1, save_best_only=True,\n",
        "                             save_weights_only=False, mode='auto',\n",
        "                             save_freq='epoch')\n",
        "early = EarlyStopping(monitor='val_accuracy', min_delta=0, patience=10,verbose=1, mode='auto')\n",
        "board=TensorBoard(log_dir=log_dir,histogram_freq=1)\n",
        "dec=LearningRateScheduler(scheduler)\n",
        "tensorboard_callback =[checkpoint,early,board,dec]"
      ],
      "execution_count": null,
      "outputs": []
    },
    {
      "cell_type": "code",
      "metadata": {
        "colab": {
          "background_save": true,
          "base_uri": "https://localhost:8080/"
        },
        "id": "84z2dYiEjUBa",
        "outputId": "ebf75b72-7230-4f02-8753-77455f66ca14"
      },
      "source": [
        "hist = model_1.fit(\n",
        "    train_generator,\n",
        "    validation_data=validation_generator,\n",
        "    epochs=EPOCHS,\n",
        "    steps_per_epoch=len(train_generator),\n",
        "    validation_steps=len(validation_generator),\n",
        "    callbacks=[tensorboard_callback]\n",
        ")"
      ],
      "execution_count": null,
      "outputs": [
        {
          "output_type": "stream",
          "text": [
            "Epoch 1/50\n",
            "691/691 [==============================] - 349s 451ms/step - loss: 0.4221 - accuracy: 0.8032 - precision: 0.8013 - recall: 0.8048 - val_loss: 0.1736 - val_accuracy: 0.9319 - val_precision: 0.9325 - val_recall: 0.9305\n",
            "\n",
            "Epoch 00001: val_accuracy improved from -inf to 0.93193, saving model to /content/model_1.h5\n",
            "Epoch 2/50\n",
            "691/691 [==============================] - 305s 441ms/step - loss: 0.2155 - accuracy: 0.9111 - precision: 0.9110 - recall: 0.9113 - val_loss: 0.1330 - val_accuracy: 0.9522 - val_precision: 0.9522 - val_recall: 0.9529\n",
            "\n",
            "Epoch 00002: val_accuracy improved from 0.93193 to 0.95221, saving model to /content/model_1.h5\n",
            "Epoch 3/50\n",
            "691/691 [==============================] - 305s 440ms/step - loss: 0.1791 - accuracy: 0.9320 - precision: 0.9319 - recall: 0.9319 - val_loss: 0.1044 - val_accuracy: 0.9667 - val_precision: 0.9667 - val_recall: 0.9667\n",
            "\n",
            "Epoch 00003: val_accuracy improved from 0.95221 to 0.96669, saving model to /content/model_1.h5\n",
            "Epoch 4/50\n",
            "691/691 [==============================] - 304s 440ms/step - loss: 0.1244 - accuracy: 0.9540 - precision: 0.9541 - recall: 0.9537 - val_loss: 0.1394 - val_accuracy: 0.9442 - val_precision: 0.9449 - val_recall: 0.9442\n",
            "\n",
            "Epoch 00004: val_accuracy did not improve from 0.96669\n",
            "Epoch 5/50\n",
            "691/691 [==============================] - 304s 439ms/step - loss: 0.1291 - accuracy: 0.9478 - precision: 0.9478 - recall: 0.9481 - val_loss: 0.1113 - val_accuracy: 0.9616 - val_precision: 0.9616 - val_recall: 0.9616\n",
            "\n",
            "Epoch 00005: val_accuracy did not improve from 0.96669\n",
            "Epoch 6/50\n",
            "691/691 [==============================] - 304s 440ms/step - loss: 0.0988 - accuracy: 0.9622 - precision: 0.9620 - recall: 0.9625 - val_loss: 0.1011 - val_accuracy: 0.9645 - val_precision: 0.9638 - val_recall: 0.9645\n",
            "\n",
            "Epoch 00006: val_accuracy did not improve from 0.96669\n",
            "Epoch 7/50\n",
            "691/691 [==============================] - 304s 439ms/step - loss: 0.0714 - accuracy: 0.9749 - precision: 0.9749 - recall: 0.9748 - val_loss: 0.1118 - val_accuracy: 0.9551 - val_precision: 0.9552 - val_recall: 0.9566\n",
            "\n",
            "Epoch 00007: val_accuracy did not improve from 0.96669\n",
            "Epoch 8/50\n",
            "691/691 [==============================] - 302s 436ms/step - loss: 0.0640 - accuracy: 0.9790 - precision: 0.9790 - recall: 0.9790 - val_loss: 0.0576 - val_accuracy: 0.9790 - val_precision: 0.9790 - val_recall: 0.9790\n",
            "\n",
            "Epoch 00008: val_accuracy improved from 0.96669 to 0.97900, saving model to /content/model_1.h5\n",
            "Epoch 9/50\n",
            "691/691 [==============================] - 302s 437ms/step - loss: 0.0558 - accuracy: 0.9814 - precision: 0.9816 - recall: 0.9815 - val_loss: 0.0615 - val_accuracy: 0.9790 - val_precision: 0.9790 - val_recall: 0.9790\n",
            "\n",
            "Epoch 00009: val_accuracy did not improve from 0.97900\n",
            "Epoch 10/50\n",
            "691/691 [==============================] - 301s 435ms/step - loss: 0.0568 - accuracy: 0.9803 - precision: 0.9804 - recall: 0.9802 - val_loss: 0.0545 - val_accuracy: 0.9819 - val_precision: 0.9826 - val_recall: 0.9819\n",
            "\n",
            "Epoch 00010: val_accuracy improved from 0.97900 to 0.98190, saving model to /content/model_1.h5\n",
            "Epoch 11/50\n",
            "691/691 [==============================] - 301s 435ms/step - loss: 0.0454 - accuracy: 0.9819 - precision: 0.9819 - recall: 0.9820 - val_loss: 0.0753 - val_accuracy: 0.9725 - val_precision: 0.9725 - val_recall: 0.9732\n",
            "\n",
            "Epoch 00011: val_accuracy did not improve from 0.98190\n",
            "Epoch 12/50\n",
            "691/691 [==============================] - 301s 435ms/step - loss: 0.0428 - accuracy: 0.9842 - precision: 0.9842 - recall: 0.9842 - val_loss: 0.0692 - val_accuracy: 0.9790 - val_precision: 0.9790 - val_recall: 0.9797\n",
            "\n",
            "Epoch 00012: val_accuracy did not improve from 0.98190\n",
            "Epoch 13/50\n",
            "691/691 [==============================] - 301s 435ms/step - loss: 0.0373 - accuracy: 0.9859 - precision: 0.9859 - recall: 0.9859 - val_loss: 0.0694 - val_accuracy: 0.9819 - val_precision: 0.9819 - val_recall: 0.9826\n",
            "\n",
            "Epoch 00013: val_accuracy did not improve from 0.98190\n",
            "Epoch 14/50\n",
            "691/691 [==============================] - 300s 435ms/step - loss: 0.0336 - accuracy: 0.9899 - precision: 0.9898 - recall: 0.9899 - val_loss: 0.0646 - val_accuracy: 0.9747 - val_precision: 0.9746 - val_recall: 0.9732\n",
            "\n",
            "Epoch 00014: val_accuracy did not improve from 0.98190\n",
            "Epoch 15/50\n",
            "691/691 [==============================] - 301s 435ms/step - loss: 0.0277 - accuracy: 0.9891 - precision: 0.9888 - recall: 0.9892 - val_loss: 0.1006 - val_accuracy: 0.9732 - val_precision: 0.9732 - val_recall: 0.9732\n",
            "\n",
            "Epoch 00015: val_accuracy did not improve from 0.98190\n",
            "Epoch 16/50\n",
            "691/691 [==============================] - 300s 435ms/step - loss: 0.0214 - accuracy: 0.9922 - precision: 0.9922 - recall: 0.9923 - val_loss: 0.0446 - val_accuracy: 0.9841 - val_precision: 0.9841 - val_recall: 0.9841\n",
            "\n",
            "Epoch 00016: val_accuracy improved from 0.98190 to 0.98407, saving model to /content/model_1.h5\n",
            "Epoch 17/50\n",
            "691/691 [==============================] - 300s 434ms/step - loss: 0.0212 - accuracy: 0.9928 - precision: 0.9928 - recall: 0.9928 - val_loss: 0.0360 - val_accuracy: 0.9841 - val_precision: 0.9841 - val_recall: 0.9841\n",
            "\n",
            "Epoch 00017: val_accuracy did not improve from 0.98407\n",
            "Epoch 18/50\n",
            "691/691 [==============================] - 300s 434ms/step - loss: 0.0172 - accuracy: 0.9938 - precision: 0.9938 - recall: 0.9938 - val_loss: 0.0302 - val_accuracy: 0.9913 - val_precision: 0.9913 - val_recall: 0.9913\n",
            "\n",
            "Epoch 00018: val_accuracy improved from 0.98407 to 0.99131, saving model to /content/model_1.h5\n",
            "Epoch 19/50\n",
            "691/691 [==============================] - 301s 435ms/step - loss: 0.0120 - accuracy: 0.9966 - precision: 0.9967 - recall: 0.9966 - val_loss: 0.0248 - val_accuracy: 0.9906 - val_precision: 0.9906 - val_recall: 0.9906\n",
            "\n",
            "Epoch 00019: val_accuracy did not improve from 0.99131\n",
            "Epoch 20/50\n",
            "691/691 [==============================] - 301s 435ms/step - loss: 0.0145 - accuracy: 0.9954 - precision: 0.9955 - recall: 0.9953 - val_loss: 0.0194 - val_accuracy: 0.9913 - val_precision: 0.9913 - val_recall: 0.9913\n",
            "\n",
            "Epoch 00020: val_accuracy did not improve from 0.99131\n",
            "Epoch 21/50\n",
            "691/691 [==============================] - 301s 435ms/step - loss: 0.0128 - accuracy: 0.9951 - precision: 0.9951 - recall: 0.9951 - val_loss: 0.0324 - val_accuracy: 0.9884 - val_precision: 0.9884 - val_recall: 0.9884\n",
            "\n",
            "Epoch 00021: val_accuracy did not improve from 0.99131\n",
            "Epoch 22/50\n",
            "691/691 [==============================] - 300s 434ms/step - loss: 0.0101 - accuracy: 0.9969 - precision: 0.9970 - recall: 0.9969 - val_loss: 0.0319 - val_accuracy: 0.9942 - val_precision: 0.9942 - val_recall: 0.9942\n",
            "\n",
            "Epoch 00022: val_accuracy improved from 0.99131 to 0.99421, saving model to /content/model_1.h5\n",
            "Epoch 23/50\n",
            "691/691 [==============================] - 301s 435ms/step - loss: 0.0106 - accuracy: 0.9965 - precision: 0.9965 - recall: 0.9965 - val_loss: 0.0477 - val_accuracy: 0.9891 - val_precision: 0.9891 - val_recall: 0.9891\n",
            "\n",
            "Epoch 00023: val_accuracy did not improve from 0.99421\n",
            "Epoch 24/50\n",
            "691/691 [==============================] - 300s 435ms/step - loss: 0.0121 - accuracy: 0.9956 - precision: 0.9956 - recall: 0.9956 - val_loss: 0.0328 - val_accuracy: 0.9913 - val_precision: 0.9913 - val_recall: 0.9913\n",
            "\n",
            "Epoch 00024: val_accuracy did not improve from 0.99421\n",
            "Epoch 25/50\n",
            "691/691 [==============================] - 300s 434ms/step - loss: 0.0137 - accuracy: 0.9946 - precision: 0.9949 - recall: 0.9947 - val_loss: 0.0267 - val_accuracy: 0.9906 - val_precision: 0.9906 - val_recall: 0.9906\n",
            "\n",
            "Epoch 00025: val_accuracy did not improve from 0.99421\n",
            "Epoch 26/50\n",
            "691/691 [==============================] - 300s 434ms/step - loss: 0.0077 - accuracy: 0.9974 - precision: 0.9974 - recall: 0.9973 - val_loss: 0.0292 - val_accuracy: 0.9928 - val_precision: 0.9928 - val_recall: 0.9928\n",
            "\n",
            "Epoch 00026: val_accuracy did not improve from 0.99421\n",
            "Epoch 27/50\n",
            "691/691 [==============================] - 300s 435ms/step - loss: 0.0092 - accuracy: 0.9970 - precision: 0.9970 - recall: 0.9970 - val_loss: 0.0235 - val_accuracy: 0.9920 - val_precision: 0.9920 - val_recall: 0.9920\n",
            "\n",
            "Epoch 00027: val_accuracy did not improve from 0.99421\n",
            "Epoch 28/50\n",
            "691/691 [==============================] - 301s 435ms/step - loss: 0.0082 - accuracy: 0.9970 - precision: 0.9970 - recall: 0.9970 - val_loss: 0.0308 - val_accuracy: 0.9928 - val_precision: 0.9928 - val_recall: 0.9928\n",
            "\n",
            "Epoch 00028: val_accuracy did not improve from 0.99421\n",
            "Epoch 29/50\n",
            "691/691 [==============================] - 301s 435ms/step - loss: 0.0060 - accuracy: 0.9975 - precision: 0.9975 - recall: 0.9975 - val_loss: 0.0200 - val_accuracy: 0.9949 - val_precision: 0.9949 - val_recall: 0.9949\n",
            "\n",
            "Epoch 00029: val_accuracy improved from 0.99421 to 0.99493, saving model to /content/model_1.h5\n",
            "Epoch 30/50\n",
            "691/691 [==============================] - 300s 435ms/step - loss: 0.0065 - accuracy: 0.9980 - precision: 0.9980 - recall: 0.9980 - val_loss: 0.0287 - val_accuracy: 0.9920 - val_precision: 0.9920 - val_recall: 0.9920\n",
            "\n",
            "Epoch 00030: val_accuracy did not improve from 0.99493\n",
            "Epoch 31/50\n",
            "691/691 [==============================] - 301s 435ms/step - loss: 0.0031 - accuracy: 0.9987 - precision: 0.9987 - recall: 0.9987 - val_loss: 0.0407 - val_accuracy: 0.9899 - val_precision: 0.9899 - val_recall: 0.9891\n",
            "\n",
            "Epoch 00031: val_accuracy did not improve from 0.99493\n",
            "Epoch 32/50\n",
            "691/691 [==============================] - 301s 436ms/step - loss: 0.0022 - accuracy: 0.9992 - precision: 0.9993 - recall: 0.9992 - val_loss: 0.0248 - val_accuracy: 0.9920 - val_precision: 0.9920 - val_recall: 0.9920\n",
            "\n",
            "Epoch 00032: val_accuracy did not improve from 0.99493\n",
            "Epoch 33/50\n",
            "691/691 [==============================] - 301s 436ms/step - loss: 0.0042 - accuracy: 0.9988 - precision: 0.9988 - recall: 0.9988 - val_loss: 0.0341 - val_accuracy: 0.9884 - val_precision: 0.9884 - val_recall: 0.9884\n",
            "\n",
            "Epoch 00033: val_accuracy did not improve from 0.99493\n",
            "Epoch 34/50\n",
            "691/691 [==============================] - 302s 436ms/step - loss: 0.0026 - accuracy: 0.9994 - precision: 0.9994 - recall: 0.9994 - val_loss: 0.0395 - val_accuracy: 0.9891 - val_precision: 0.9891 - val_recall: 0.9891\n",
            "\n",
            "Epoch 00034: val_accuracy did not improve from 0.99493\n",
            "Epoch 35/50\n",
            "691/691 [==============================] - 301s 435ms/step - loss: 0.0032 - accuracy: 0.9985 - precision: 0.9985 - recall: 0.9985 - val_loss: 0.0249 - val_accuracy: 0.9942 - val_precision: 0.9942 - val_recall: 0.9942\n",
            "\n",
            "Epoch 00035: val_accuracy did not improve from 0.99493\n",
            "Epoch 36/50\n",
            "691/691 [==============================] - 302s 437ms/step - loss: 0.0024 - accuracy: 0.9992 - precision: 0.9992 - recall: 0.9992 - val_loss: 0.0414 - val_accuracy: 0.9913 - val_precision: 0.9913 - val_recall: 0.9913\n",
            "\n",
            "Epoch 00036: val_accuracy did not improve from 0.99493\n",
            "Epoch 37/50\n",
            "691/691 [==============================] - 302s 437ms/step - loss: 0.0039 - accuracy: 0.9990 - precision: 0.9990 - recall: 0.9990 - val_loss: 0.0237 - val_accuracy: 0.9949 - val_precision: 0.9949 - val_recall: 0.9949\n",
            "\n",
            "Epoch 00037: val_accuracy did not improve from 0.99493\n",
            "Epoch 38/50\n",
            "691/691 [==============================] - 302s 437ms/step - loss: 8.6760e-04 - accuracy: 0.9999 - precision: 0.9999 - recall: 0.9999 - val_loss: 0.0244 - val_accuracy: 0.9942 - val_precision: 0.9942 - val_recall: 0.9942\n",
            "\n",
            "Epoch 00038: val_accuracy did not improve from 0.99493\n",
            "Epoch 39/50\n",
            "691/691 [==============================] - 302s 437ms/step - loss: 0.0026 - accuracy: 0.9994 - precision: 0.9994 - recall: 0.9994 - val_loss: 0.0239 - val_accuracy: 0.9920 - val_precision: 0.9920 - val_recall: 0.9920\n",
            "\n",
            "Epoch 00039: val_accuracy did not improve from 0.99493\n",
            "Epoch 00039: early stopping\n"
          ],
          "name": "stdout"
        }
      ]
    },
    {
      "cell_type": "markdown",
      "metadata": {
        "id": "BWPtgRVYj8aO"
      },
      "source": [
        "To find the \"epoch\", \"val_acc\", \"val_precision\" and \"val_recall\":\n",
        "1. Take the final epoch number, this is \"epoch\"\n",
        "2. Subtract it by 10\n",
        "3. Find the val_accuracy, val_precision and val_recall\n",
        "4. the best values for val_acc should be above the sentence \"the model improved\""
      ]
    },
    {
      "cell_type": "code",
      "metadata": {
        "colab": {
          "background_save": true
        },
        "id": "-u48tJfFjVP9",
        "outputId": "5b302f0c-eae1-413c-da29-a83352e999ef"
      },
      "source": [
        "plt.figure(1, figsize=(16,18))\n",
        "plt.subplot(2,1,1)\n",
        "plt.plot(hist.history['loss'])\n",
        "plt.plot(hist.history['val_loss'])\n",
        "plt.legend(['train','test'])\n",
        "plt.title('loss')\n",
        "plt.subplot(2,1,2)\n",
        "plt.plot(hist.history['accuracy'])\n",
        "plt.plot(hist.history['val_accuracy'])\n",
        "plt.legend(['train','test'])\n",
        "plt.title('accuracy')\n",
        "plt.show()"
      ],
      "execution_count": null,
      "outputs": [
        {
          "output_type": "display_data",
          "data": {
            "image/png": "[encoded data removed]",
            "text/plain": [
              "<Figure size 1152x1296 with 2 Axes>"
            ]
          },
          "metadata": {
            "tags": []
          }
        }
      ]
    },
    {
      "cell_type": "code",
      "metadata": {
        "colab": {
          "background_save": true
        },
        "id": "CEx8-gLmjXCz",
        "outputId": "aff0aaa1-564f-408b-d046-5ee3c03cb8e8"
      },
      "source": [
        "loss, acc, pre, rec = model_1.evaluate(test_generator)\n",
        "print(\"\\ntest %s: %.2f%%\" % (model_1.metrics_names[1], acc * 100))\n",
        "print(\"\\ntest %s: %.2f%%\" % (model_1.metrics_names[2], pre * 100))\n",
        "print(\"\\ntest %s: %.2f%%\" % (model_1.metrics_names[3], rec * 100))"
      ],
      "execution_count": null,
      "outputs": [
        {
          "output_type": "stream",
          "text": [
            "87/87 [==============================] - 21s 245ms/step - loss: 0.0358 - accuracy: 0.9913 - precision: 0.9913 - recall: 0.9920\n",
            "\n",
            "test accuracy: 99.13%\n",
            "\n",
            "test precision: 99.13%\n",
            "\n",
            "test recall: 99.20%\n"
          ],
          "name": "stdout"
        }
      ]
    },
    {
      "cell_type": "markdown",
      "metadata": {
        "id": "OSULIQ34j4He"
      },
      "source": [
        "# VGG_19"
      ]
    },
    {
      "cell_type": "markdown",
      "metadata": {
        "id": "ytpK6AYglerU"
      },
      "source": [
        "This is the template to add models for longer training\n",
        "\n",
        "To use the template, fill in the blanks like before, and also change the \"x\" variables into integers if you want. For example, change model_x model_2 or model _3, and so on."
      ]
    },
    {
      "cell_type": "code",
      "metadata": {
        "id": "eWjDSeKzk0mG"
      },
      "source": [
        "from tensorflow.keras.applications import VGG19 "
      ],
      "execution_count": null,
      "outputs": []
    },
    {
      "cell_type": "code",
      "metadata": {
        "colab": {
          "base_uri": "https://localhost:8080/"
        },
        "id": "SjvR7omJk5wa",
        "outputId": "ac8ba382-a6e9-4cf9-aac0-7216ffb6b37d"
      },
      "source": [
        "base_model_x = VGG19(weights='imagenet', include_top=False) "
      ],
      "execution_count": null,
      "outputs": [
        {
          "output_type": "stream",
          "text": [
            "Downloading data from https://storage.googleapis.com/tensorflow/keras-applications/vgg19/vgg19_weights_tf_dim_ordering_tf_kernels_notop.h5\n",
            "80142336/80134624 [==============================] - 1s 0us/step\n"
          ],
          "name": "stdout"
        }
      ]
    },
    {
      "cell_type": "code",
      "metadata": {
        "id": "zsBCeiOWlJt5"
      },
      "source": [
        "model_x = Sequential()\n",
        "model_x.add(base_model_x) \n",
        "model_x.add(GlobalAveragePooling2D())\n",
        "model_x.add(Dense(NUM_CLASSES, activation='sigmoid'))"
      ],
      "execution_count": null,
      "outputs": []
    },
    {
      "cell_type": "code",
      "metadata": {
        "id": "8ylt2F1umFyA"
      },
      "source": [
        "model_x.compile(\n",
        "    loss='binary_crossentropy',\n",
        "    optimizer=Adam(learning_rate=LEARNING_RATE),\n",
        "    metrics=['accuracy', tf.keras.metrics.Precision(), tf.keras.metrics.Recall()]\n",
        ")"
      ],
      "execution_count": null,
      "outputs": []
    },
    {
      "cell_type": "code",
      "metadata": {
        "colab": {
          "base_uri": "https://localhost:8080/"
        },
        "id": "BuUIuIGPmIFJ",
        "outputId": "bd87c89d-2182-4238-87fb-336e80c56bcd"
      },
      "source": [
        "model_x.summary()"
      ],
      "execution_count": null,
      "outputs": [
        {
          "output_type": "stream",
          "text": [
            "Model: \"sequential\"\n",
            "_________________________________________________________________\n",
            "Layer (type)                 Output Shape              Param #   \n",
            "=================================================================\n",
            "vgg19 (Functional)           (None, None, None, 512)   20024384  \n",
            "_________________________________________________________________\n",
            "global_average_pooling2d (Gl (None, 512)               0         \n",
            "_________________________________________________________________\n",
            "dense (Dense)                (None, 2)                 1026      \n",
            "=================================================================\n",
            "Total params: 20,025,410\n",
            "Trainable params: 20,025,410\n",
            "Non-trainable params: 0\n",
            "_________________________________________________________________\n"
          ],
          "name": "stdout"
        }
      ]
    },
    {
      "cell_type": "code",
      "metadata": {
        "id": "78kzHWTlmOJk"
      },
      "source": [
        "log_dir='./logs/fit'+datetime.now().strftime('%d.%m.%Y--%H-%M-%S')\n",
        "\n",
        "model_path='/content/model_x.h5' \n",
        "\n",
        "checkpoint = ModelCheckpoint(model_path, monitor='val_accuracy',\n",
        "                             verbose=1, save_best_only=True,\n",
        "                             save_weights_only=False, mode='auto',\n",
        "                             save_freq='epoch')\n",
        "early = EarlyStopping(monitor='val_accuracy', min_delta=0, patience=10,verbose=1, mode='auto')\n",
        "board=TensorBoard(log_dir=log_dir,histogram_freq=1)\n",
        "dec=LearningRateScheduler(scheduler)\n",
        "tensorboard_callback =[checkpoint,early,board,dec]"
      ],
      "execution_count": null,
      "outputs": []
    },
    {
      "cell_type": "code",
      "metadata": {
        "colab": {
          "base_uri": "https://localhost:8080/"
        },
        "id": "eBqMjVy3mcRX",
        "outputId": "90573006-37a7-4adc-eca3-e6a3ef23a542"
      },
      "source": [
        "hist = model_x.fit(\n",
        "    train_generator,\n",
        "    validation_data=validation_generator,\n",
        "    epochs=EPOCHS,\n",
        "    steps_per_epoch=len(train_generator),\n",
        "    validation_steps=len(validation_generator),\n",
        "    callbacks=[tensorboard_callback]\n",
        ")"
      ],
      "execution_count": null,
      "outputs": [
        {
          "output_type": "stream",
          "text": [
            "Epoch 1/50\n",
            "691/691 [==============================] - 232s 280ms/step - loss: 0.5097 - accuracy: 0.7519 - precision: 0.7513 - recall: 0.7513 - val_loss: 0.4959 - val_accuracy: 0.7379 - val_precision: 0.7379 - val_recall: 0.7379\n",
            "\n",
            "Epoch 00001: val_accuracy improved from -inf to 0.73787, saving model to /content/model_x.h5\n",
            "Epoch 2/50\n",
            "691/691 [==============================] - 190s 274ms/step - loss: 0.3845 - accuracy: 0.8218 - precision: 0.8199 - recall: 0.8234 - val_loss: 0.2444 - val_accuracy: 0.9037 - val_precision: 0.9038 - val_recall: 0.9044\n",
            "\n",
            "Epoch 00002: val_accuracy improved from 0.73787 to 0.90369, saving model to /content/model_x.h5\n",
            "Epoch 3/50\n",
            "691/691 [==============================] - 190s 274ms/step - loss: 0.2516 - accuracy: 0.8926 - precision: 0.8929 - recall: 0.8927 - val_loss: 0.2148 - val_accuracy: 0.9175 - val_precision: 0.9180 - val_recall: 0.9160\n",
            "\n",
            "Epoch 00003: val_accuracy improved from 0.90369 to 0.91745, saving model to /content/model_x.h5\n",
            "Epoch 4/50\n",
            "691/691 [==============================] - 190s 275ms/step - loss: 0.1759 - accuracy: 0.9337 - precision: 0.9336 - recall: 0.9330 - val_loss: 0.1500 - val_accuracy: 0.9442 - val_precision: 0.9442 - val_recall: 0.9442\n",
            "\n",
            "Epoch 00004: val_accuracy improved from 0.91745 to 0.94424, saving model to /content/model_x.h5\n",
            "Epoch 5/50\n",
            "691/691 [==============================] - 190s 274ms/step - loss: 0.1465 - accuracy: 0.9465 - precision: 0.9467 - recall: 0.9467 - val_loss: 0.1238 - val_accuracy: 0.9609 - val_precision: 0.9609 - val_recall: 0.9602\n",
            "\n",
            "Epoch 00005: val_accuracy improved from 0.94424 to 0.96090, saving model to /content/model_x.h5\n",
            "Epoch 6/50\n",
            "691/691 [==============================] - 190s 274ms/step - loss: 0.1188 - accuracy: 0.9551 - precision: 0.9560 - recall: 0.9544 - val_loss: 0.1211 - val_accuracy: 0.9522 - val_precision: 0.9529 - val_recall: 0.9522\n",
            "\n",
            "Epoch 00006: val_accuracy did not improve from 0.96090\n",
            "Epoch 7/50\n",
            "691/691 [==============================] - 189s 274ms/step - loss: 0.1105 - accuracy: 0.9552 - precision: 0.9554 - recall: 0.9557 - val_loss: 0.1520 - val_accuracy: 0.9479 - val_precision: 0.9479 - val_recall: 0.9479\n",
            "\n",
            "Epoch 00007: val_accuracy did not improve from 0.96090\n",
            "Epoch 8/50\n",
            "691/691 [==============================] - 189s 274ms/step - loss: 0.0967 - accuracy: 0.9656 - precision: 0.9656 - recall: 0.9656 - val_loss: 0.0930 - val_accuracy: 0.9660 - val_precision: 0.9660 - val_recall: 0.9674\n",
            "\n",
            "Epoch 00008: val_accuracy improved from 0.96090 to 0.96597, saving model to /content/model_x.h5\n",
            "Epoch 9/50\n",
            "691/691 [==============================] - 189s 274ms/step - loss: 0.0801 - accuracy: 0.9677 - precision: 0.9682 - recall: 0.9676 - val_loss: 0.0944 - val_accuracy: 0.9652 - val_precision: 0.9652 - val_recall: 0.9638\n",
            "\n",
            "Epoch 00009: val_accuracy did not improve from 0.96597\n",
            "Epoch 10/50\n",
            "691/691 [==============================] - 189s 274ms/step - loss: 0.0653 - accuracy: 0.9778 - precision: 0.9774 - recall: 0.9778 - val_loss: 0.0644 - val_accuracy: 0.9812 - val_precision: 0.9812 - val_recall: 0.9812\n",
            "\n",
            "Epoch 00010: val_accuracy improved from 0.96597 to 0.98117, saving model to /content/model_x.h5\n",
            "Epoch 11/50\n",
            "691/691 [==============================] - 189s 273ms/step - loss: 0.0587 - accuracy: 0.9793 - precision: 0.9794 - recall: 0.9793 - val_loss: 0.0951 - val_accuracy: 0.9681 - val_precision: 0.9681 - val_recall: 0.9681\n",
            "\n",
            "Epoch 00011: val_accuracy did not improve from 0.98117\n",
            "Epoch 12/50\n",
            "691/691 [==============================] - 189s 274ms/step - loss: 0.0624 - accuracy: 0.9787 - precision: 0.9786 - recall: 0.9789 - val_loss: 0.0651 - val_accuracy: 0.9819 - val_precision: 0.9819 - val_recall: 0.9819\n",
            "\n",
            "Epoch 00012: val_accuracy improved from 0.98117 to 0.98190, saving model to /content/model_x.h5\n",
            "Epoch 13/50\n",
            "691/691 [==============================] - 189s 274ms/step - loss: 0.0517 - accuracy: 0.9816 - precision: 0.9818 - recall: 0.9816 - val_loss: 0.1322 - val_accuracy: 0.9660 - val_precision: 0.9660 - val_recall: 0.9667\n",
            "\n",
            "Epoch 00013: val_accuracy did not improve from 0.98190\n",
            "Epoch 14/50\n",
            "691/691 [==============================] - 189s 274ms/step - loss: 0.0462 - accuracy: 0.9818 - precision: 0.9819 - recall: 0.9820 - val_loss: 0.1019 - val_accuracy: 0.9732 - val_precision: 0.9732 - val_recall: 0.9732\n",
            "\n",
            "Epoch 00014: val_accuracy did not improve from 0.98190\n",
            "Epoch 15/50\n",
            "691/691 [==============================] - 189s 274ms/step - loss: 0.0428 - accuracy: 0.9833 - precision: 0.9834 - recall: 0.9833 - val_loss: 0.0584 - val_accuracy: 0.9804 - val_precision: 0.9804 - val_recall: 0.9804\n",
            "\n",
            "Epoch 00015: val_accuracy did not improve from 0.98190\n",
            "Epoch 16/50\n",
            "691/691 [==============================] - 189s 274ms/step - loss: 0.0337 - accuracy: 0.9880 - precision: 0.9880 - recall: 0.9879 - val_loss: 0.0754 - val_accuracy: 0.9768 - val_precision: 0.9768 - val_recall: 0.9768\n",
            "\n",
            "Epoch 00016: val_accuracy did not improve from 0.98190\n",
            "Epoch 17/50\n",
            "691/691 [==============================] - 189s 274ms/step - loss: 0.0314 - accuracy: 0.9881 - precision: 0.9881 - recall: 0.9881 - val_loss: 0.0567 - val_accuracy: 0.9804 - val_precision: 0.9804 - val_recall: 0.9804\n",
            "\n",
            "Epoch 00017: val_accuracy did not improve from 0.98190\n",
            "Epoch 18/50\n",
            "691/691 [==============================] - 189s 274ms/step - loss: 0.0312 - accuracy: 0.9889 - precision: 0.9889 - recall: 0.9888 - val_loss: 0.0490 - val_accuracy: 0.9862 - val_precision: 0.9862 - val_recall: 0.9862\n",
            "\n",
            "Epoch 00018: val_accuracy improved from 0.98190 to 0.98624, saving model to /content/model_x.h5\n",
            "Epoch 19/50\n",
            "691/691 [==============================] - 189s 274ms/step - loss: 0.0290 - accuracy: 0.9898 - precision: 0.9898 - recall: 0.9900 - val_loss: 0.0778 - val_accuracy: 0.9754 - val_precision: 0.9754 - val_recall: 0.9747\n",
            "\n",
            "Epoch 00019: val_accuracy did not improve from 0.98624\n",
            "Epoch 20/50\n",
            "691/691 [==============================] - 190s 274ms/step - loss: 0.0252 - accuracy: 0.9902 - precision: 0.9902 - recall: 0.9902 - val_loss: 0.0594 - val_accuracy: 0.9804 - val_precision: 0.9804 - val_recall: 0.9804\n",
            "\n",
            "Epoch 00020: val_accuracy did not improve from 0.98624\n",
            "Epoch 21/50\n",
            "691/691 [==============================] - 189s 274ms/step - loss: 0.0203 - accuracy: 0.9932 - precision: 0.9932 - recall: 0.9931 - val_loss: 0.0619 - val_accuracy: 0.9797 - val_precision: 0.9804 - val_recall: 0.9797\n",
            "\n",
            "Epoch 00021: val_accuracy did not improve from 0.98624\n",
            "Epoch 22/50\n",
            "691/691 [==============================] - 190s 274ms/step - loss: 0.0184 - accuracy: 0.9924 - precision: 0.9927 - recall: 0.9924 - val_loss: 0.0594 - val_accuracy: 0.9855 - val_precision: 0.9855 - val_recall: 0.9855\n",
            "\n",
            "Epoch 00022: val_accuracy did not improve from 0.98624\n",
            "Epoch 23/50\n",
            "691/691 [==============================] - 189s 274ms/step - loss: 0.0164 - accuracy: 0.9944 - precision: 0.9944 - recall: 0.9944 - val_loss: 0.0502 - val_accuracy: 0.9899 - val_precision: 0.9899 - val_recall: 0.9899\n",
            "\n",
            "Epoch 00023: val_accuracy improved from 0.98624 to 0.98986, saving model to /content/model_x.h5\n",
            "Epoch 24/50\n",
            "691/691 [==============================] - 190s 274ms/step - loss: 0.0210 - accuracy: 0.9937 - precision: 0.9938 - recall: 0.9937 - val_loss: 0.0567 - val_accuracy: 0.9776 - val_precision: 0.9776 - val_recall: 0.9776\n",
            "\n",
            "Epoch 00024: val_accuracy did not improve from 0.98986\n",
            "Epoch 25/50\n",
            "691/691 [==============================] - 190s 274ms/step - loss: 0.0160 - accuracy: 0.9928 - precision: 0.9930 - recall: 0.9931 - val_loss: 0.0724 - val_accuracy: 0.9812 - val_precision: 0.9812 - val_recall: 0.9812\n",
            "\n",
            "Epoch 00025: val_accuracy did not improve from 0.98986\n",
            "Epoch 26/50\n",
            "691/691 [==============================] - 190s 274ms/step - loss: 0.0179 - accuracy: 0.9922 - precision: 0.9922 - recall: 0.9921 - val_loss: 0.0496 - val_accuracy: 0.9920 - val_precision: 0.9920 - val_recall: 0.9920\n",
            "\n",
            "Epoch 00026: val_accuracy improved from 0.98986 to 0.99203, saving model to /content/model_x.h5\n",
            "Epoch 27/50\n",
            "691/691 [==============================] - 190s 274ms/step - loss: 0.0111 - accuracy: 0.9958 - precision: 0.9958 - recall: 0.9958 - val_loss: 0.0607 - val_accuracy: 0.9870 - val_precision: 0.9877 - val_recall: 0.9870\n",
            "\n",
            "Epoch 00027: val_accuracy did not improve from 0.99203\n",
            "Epoch 28/50\n",
            "691/691 [==============================] - 190s 274ms/step - loss: 0.0136 - accuracy: 0.9957 - precision: 0.9957 - recall: 0.9957 - val_loss: 0.0439 - val_accuracy: 0.9855 - val_precision: 0.9855 - val_recall: 0.9855\n",
            "\n",
            "Epoch 00028: val_accuracy did not improve from 0.99203\n",
            "Epoch 29/50\n",
            "691/691 [==============================] - 190s 275ms/step - loss: 0.0079 - accuracy: 0.9972 - precision: 0.9972 - recall: 0.9971 - val_loss: 0.0475 - val_accuracy: 0.9877 - val_precision: 0.9877 - val_recall: 0.9877\n",
            "\n",
            "Epoch 00029: val_accuracy did not improve from 0.99203\n",
            "Epoch 30/50\n",
            "691/691 [==============================] - 190s 275ms/step - loss: 0.0096 - accuracy: 0.9961 - precision: 0.9963 - recall: 0.9959 - val_loss: 0.0402 - val_accuracy: 0.9906 - val_precision: 0.9906 - val_recall: 0.9906\n",
            "\n",
            "Epoch 00030: val_accuracy did not improve from 0.99203\n",
            "Epoch 31/50\n",
            "691/691 [==============================] - 190s 274ms/step - loss: 0.0144 - accuracy: 0.9954 - precision: 0.9954 - recall: 0.9954 - val_loss: 0.0514 - val_accuracy: 0.9877 - val_precision: 0.9870 - val_recall: 0.9877\n",
            "\n",
            "Epoch 00031: val_accuracy did not improve from 0.99203\n",
            "Epoch 32/50\n",
            "691/691 [==============================] - 190s 274ms/step - loss: 0.0076 - accuracy: 0.9971 - precision: 0.9971 - recall: 0.9969 - val_loss: 0.0598 - val_accuracy: 0.9841 - val_precision: 0.9841 - val_recall: 0.9841\n",
            "\n",
            "Epoch 00032: val_accuracy did not improve from 0.99203\n",
            "Epoch 33/50\n",
            "691/691 [==============================] - 190s 274ms/step - loss: 0.0116 - accuracy: 0.9954 - precision: 0.9954 - recall: 0.9955 - val_loss: 0.0556 - val_accuracy: 0.9891 - val_precision: 0.9891 - val_recall: 0.9891\n",
            "\n",
            "Epoch 00033: val_accuracy did not improve from 0.99203\n",
            "Epoch 34/50\n",
            "691/691 [==============================] - 190s 275ms/step - loss: 0.0090 - accuracy: 0.9969 - precision: 0.9969 - recall: 0.9969 - val_loss: 0.0611 - val_accuracy: 0.9870 - val_precision: 0.9863 - val_recall: 0.9870\n",
            "\n",
            "Epoch 00034: val_accuracy did not improve from 0.99203\n",
            "Epoch 35/50\n",
            "691/691 [==============================] - 190s 275ms/step - loss: 0.0099 - accuracy: 0.9961 - precision: 0.9961 - recall: 0.9961 - val_loss: 0.0553 - val_accuracy: 0.9891 - val_precision: 0.9891 - val_recall: 0.9891\n",
            "\n",
            "Epoch 00035: val_accuracy did not improve from 0.99203\n",
            "Epoch 36/50\n",
            "691/691 [==============================] - 190s 274ms/step - loss: 0.0069 - accuracy: 0.9975 - precision: 0.9975 - recall: 0.9975 - val_loss: 0.0450 - val_accuracy: 0.9870 - val_precision: 0.9870 - val_recall: 0.9870\n",
            "\n",
            "Epoch 00036: val_accuracy did not improve from 0.99203\n",
            "Epoch 00036: early stopping\n"
          ],
          "name": "stdout"
        }
      ]
    },
    {
      "cell_type": "code",
      "metadata": {
        "id": "LEkPUhYwmjDl",
        "colab": {
          "base_uri": "https://localhost:8080/"
        },
        "outputId": "23ec74dd-2d19-4295-efa3-c7bc29ab7fa1"
      },
      "source": [
        "plt.figure(1, figsize=(16,18))\n",
        "plt.subplot(2,1,1)\n",
        "plt.plot(hist.history['loss'])\n",
        "plt.plot(hist.history['val_loss'])\n",
        "plt.legend(['train','test'])\n",
        "plt.title('loss')\n",
        "plt.subplot(2,1,2)\n",
        "plt.plot(hist.history['accuracy'])\n",
        "plt.plot(hist.history['val_accuracy'])\n",
        "plt.legend(['train','test'])\n",
        "plt.title('accuracy')\n",
        "plt.show()"
      ],
      "execution_count": null,
      "outputs": [
        {
          "output_type": "display_data",
          "data": {
            "image/png": "[encoded data removed]",
            "text/plain": [
              "<Figure size 1152x1296 with 2 Axes>"
            ]
          },
          "metadata": {
            "tags": [],
            "needs_background": "light"
          }
        }
      ]
    },
    {
      "cell_type": "code",
      "metadata": {
        "id": "n3m3zzPnmp07",
        "colab": {
          "base_uri": "https://localhost:8080/"
        },
        "outputId": "19693511-e08f-4b5c-c26b-0880d2b7ca40"
      },
      "source": [
        "loss, acc, pre, rec = model_x.evaluate(test_generator)\n",
        "print(\"\\ntest %s: %.2f%%\" % (model_x.metrics_names[1], acc * 100))\n",
        "print(\"\\ntest %s: %.2f%%\" % (model_x.metrics_names[2], pre * 100))\n",
        "print(\"\\ntest %s: %.2f%%\" % (model_x.metrics_names[3], rec * 100))"
      ],
      "execution_count": null,
      "outputs": [
        {
          "output_type": "stream",
          "text": [
            "87/87 [==============================] - 16s 186ms/step - loss: 0.0212 - accuracy: 0.9928 - precision: 0.9928 - recall: 0.9928\n",
            "\n",
            "test accuracy: 99.28%\n",
            "\n",
            "test precision: 99.28%\n",
            "\n",
            "test recall: 99.28%\n"
          ],
          "name": "stdout"
        }
      ]
    }
  ]
}